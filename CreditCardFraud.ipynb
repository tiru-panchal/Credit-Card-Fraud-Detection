{
  "nbformat": 4,
  "nbformat_minor": 0,
  "metadata": {
    "colab": {
      "provenance": []
    },
    "kernelspec": {
      "name": "python3",
      "display_name": "Python 3"
    },
    "language_info": {
      "name": "python"
    }
  },
  "cells": [
    {
      "cell_type": "markdown",
      "source": [
        "**CREDIT CARD FRAUD DETECTION USING MACHINE LEARNING MODEL**\n"
      ],
      "metadata": {
        "id": "bA3p6uttWmld"
      }
    },
    {
      "cell_type": "markdown",
      "source": [
        "**Logistic Regression Model**\n"
      ],
      "metadata": {
        "id": "sj7-9vzX_g9M"
      }
    },
    {
      "cell_type": "code",
      "execution_count": null,
      "metadata": {
        "colab": {
          "base_uri": "https://localhost:8080/"
        },
        "id": "hryS5oKl0z8I",
        "outputId": "369bf909-0a4d-4e6c-c4ef-b62c0f5eeed9"
      },
      "outputs": [
        {
          "output_type": "stream",
          "name": "stdout",
          "text": [
            "              precision    recall  f1-score   support\n",
            "\n",
            "           0       0.98      0.99      0.98     27842\n",
            "           1       0.84      0.71      0.77      2158\n",
            "\n",
            "    accuracy                           0.97     30000\n",
            "   macro avg       0.91      0.85      0.88     30000\n",
            "weighted avg       0.97      0.97      0.97     30000\n",
            "\n"
          ]
        }
      ],
      "source": [
        "import pandas as pd\n",
        "from sklearn.model_selection import train_test_split\n",
        "from sklearn.linear_model import LogisticRegression\n",
        "from sklearn.preprocessing import StandardScaler\n",
        "from sklearn.impute import SimpleImputer\n",
        "from sklearn.metrics import classification_report\n",
        "\n",
        "# Load dataset\n",
        "df = pd.read_csv('CreditCardData.csv', encoding='ISO-8859-1')\n",
        "\n",
        "\n",
        "# Clean 'Amount' column\n",
        "df['Amount'] = df['Amount'].replace('[£,]', '', regex=True).astype(float)\n",
        "\n",
        "# Drop unnecessary columns\n",
        "df.drop(['Transaction ID', 'Date', 'Shipping Address'], axis=1, inplace=True)\n",
        "\n",
        "# One-hot encode categorical columns\n",
        "df_encoded = pd.get_dummies(df, drop_first=True)\n",
        "\n",
        "# Separate features and target\n",
        "X = df_encoded.drop(\"Fraud\", axis=1)\n",
        "y = df_encoded[\"Fraud\"]\n",
        "\n",
        "# Handle missing values with mean imputation\n",
        "imputer = SimpleImputer(strategy=\"mean\")\n",
        "X_imputed = imputer.fit_transform(X)\n",
        "\n",
        "# Split dataset\n",
        "X_train, X_test, y_train, y_test = train_test_split(X_imputed, y, test_size=0.3, stratify=y, random_state=42)\n",
        "\n",
        "# Train Logistic Regression model\n",
        "model = LogisticRegression(max_iter=1000)\n",
        "model.fit(X_train, y_train)\n",
        "\n",
        "# Predict and evaluate\n",
        "y_pred = model.predict(X_test)\n",
        "print(classification_report(y_test, y_pred))\n"
      ]
    },
    {
      "cell_type": "markdown",
      "source": [
        "**Random Forest Model**\n"
      ],
      "metadata": {
        "id": "Q7ZSHsZA_rJP"
      }
    },
    {
      "cell_type": "code",
      "source": [
        "import pandas as pd\n",
        "from sklearn.model_selection import train_test_split\n",
        "from sklearn.ensemble import RandomForestClassifier\n",
        "from sklearn.metrics import classification_report\n",
        "from sklearn.impute import SimpleImputer\n",
        "from sklearn.preprocessing import StandardScaler\n",
        "from imblearn.over_sampling import SMOTE\n",
        "\n",
        "# Step 1: Load your dataset\n",
        "df = pd.read_csv(\"CreditCardData.csv\", encoding='ISO-8859-1')\n",
        "df['Amount'] = df['Amount'].replace('[£,]', '', regex=True).astype(float)\n",
        "df.drop(['Transaction ID', 'Date', 'Shipping Address'], axis=1, inplace=True)\n",
        "df_encoded = pd.get_dummies(df, drop_first=True)\n",
        "\n",
        "# Step 2: Prepare data\n",
        "X = df_encoded.drop(\"Fraud\", axis=1)\n",
        "y = df_encoded[\"Fraud\"]\n",
        "\n",
        "# Step 3: Handle missing values\n",
        "imputer = SimpleImputer(strategy=\"mean\")\n",
        "X_imputed = imputer.fit_transform(X)\n",
        "\n",
        "# Step 4: Balance the dataset using SMOTE\n",
        "smote = SMOTE(random_state=42)\n",
        "X_resampled, y_resampled = smote.fit_resample(X_imputed, y)\n",
        "\n",
        "# Step 5: Train/test split\n",
        "X_train, X_test, y_train, y_test = train_test_split(X_resampled, y_resampled, test_size=0.3, stratify=y_resampled, random_state=42)\n",
        "\n",
        "# Step 6: Train Random Forest model\n",
        "model = RandomForestClassifier(n_estimators=100, random_state=42)\n",
        "model.fit(X_train, y_train)\n",
        "\n",
        "# Step 7: Evaluate\n",
        "y_pred = model.predict(X_test)\n",
        "print(classification_report(y_test, y_pred))\n"
      ],
      "metadata": {
        "colab": {
          "base_uri": "https://localhost:8080/"
        },
        "id": "-JSxKQGj3SPh",
        "outputId": "e0d88a69-b860-40c2-b8f0-d26b07daae0f"
      },
      "execution_count": null,
      "outputs": [
        {
          "output_type": "stream",
          "name": "stdout",
          "text": [
            "              precision    recall  f1-score   support\n",
            "\n",
            "           0       0.98      1.00      0.99     27842\n",
            "           1       1.00      0.98      0.99     27841\n",
            "\n",
            "    accuracy                           0.99     55683\n",
            "   macro avg       0.99      0.99      0.99     55683\n",
            "weighted avg       0.99      0.99      0.99     55683\n",
            "\n"
          ]
        }
      ]
    },
    {
      "cell_type": "code",
      "source": [
        "result_df = pd.DataFrame(X_test, columns=X.columns)\n",
        "result_df[\"Actual\"] = y_test\n",
        "result_df[\"Predicted\"] = y_pred\n",
        "result_df.to_csv(\"fraud_results.csv\", index=False)\n",
        "\n"
      ],
      "metadata": {
        "id": "uBM2uKyy3Tgm"
      },
      "execution_count": null,
      "outputs": []
    },
    {
      "cell_type": "markdown",
      "source": [
        "**ROC Curve**"
      ],
      "metadata": {
        "id": "RYWjo4DAABgo"
      }
    },
    {
      "cell_type": "code",
      "source": [
        "from sklearn.metrics import RocCurveDisplay\n",
        "import matplotlib.pyplot as plt\n",
        "\n",
        "plt.figure(figsize=(8, 6))\n",
        "RocCurveDisplay.from_estimator(model, X_test, y_test)  # model = trained classifier\n",
        "plt.title(\"ROC Curve - Fraud Detection\")\n",
        "plt.grid(True)\n",
        "plt.show()\n"
      ],
      "metadata": {
        "colab": {
          "base_uri": "https://localhost:8080/",
          "height": 489
        },
        "id": "MKhF4u2Z3y4i",
        "outputId": "20f0a12e-63c7-441f-9283-e138496f89af"
      },
      "execution_count": null,
      "outputs": [
        {
          "output_type": "display_data",
          "data": {
            "text/plain": [
              "<Figure size 800x600 with 0 Axes>"
            ]
          },
          "metadata": {}
        },
        {
          "output_type": "display_data",
          "data": {
            "text/plain": [
              "<Figure size 640x480 with 1 Axes>"
            ],
            "image/png": "[encoded data removed]"
          },
          "metadata": {}
        }
      ]
    },
    {
      "cell_type": "markdown",
      "source": [
        "**Coonfusion Matrix**"
      ],
      "metadata": {
        "id": "7iTtv03NAGsr"
      }
    },
    {
      "cell_type": "code",
      "source": [
        "from sklearn.metrics import confusion_matrix\n",
        "import seaborn as sns\n",
        "\n",
        "cm = confusion_matrix(y_test, y_pred)\n",
        "plt.figure(figsize=(6, 4))\n",
        "sns.heatmap(cm, annot=True, fmt='d', cmap='Blues', xticklabels=[\"Not Fraud\", \"Fraud\"], yticklabels=[\"Not Fraud\", \"Fraud\"])\n",
        "plt.xlabel(\"Predicted\")\n",
        "plt.ylabel(\"Actual\")\n",
        "plt.title(\"Confusion Matrix\")\n",
        "plt.show()\n"
      ],
      "metadata": {
        "colab": {
          "base_uri": "https://localhost:8080/",
          "height": 410
        },
        "id": "KaDxxDGk4FBI",
        "outputId": "f36dac6b-1911-4638-b9bf-1fea67feb1b4"
      },
      "execution_count": null,
      "outputs": [
        {
          "output_type": "display_data",
          "data": {
            "text/plain": [
              "<Figure size 600x400 with 2 Axes>"
            ],
            "image/png": "[encoded data removed]"
          },
          "metadata": {}
        }
      ]
    },
    {
      "cell_type": "markdown",
      "source": [
        "**Importance Of Feature In Random Forest**"
      ],
      "metadata": {
        "id": "Ma-7RqX6ALnN"
      }
    },
    {
      "cell_type": "code",
      "source": [
        "import pandas as pd\n",
        "import numpy as np\n",
        "\n",
        "importances = model.feature_importances_\n",
        "feature_names = X.columns if isinstance(X, pd.DataFrame) else [f\"Feature {i}\" for i in range(X.shape[1])]\n",
        "\n",
        "# Sort features\n",
        "sorted_idx = np.argsort(importances)[-10:]  # Top 10\n",
        "plt.figure(figsize=(8, 6))\n",
        "plt.barh(np.array(feature_names)[sorted_idx], importances[sorted_idx], color='green')\n",
        "plt.xlabel(\"Importance Score\")\n",
        "plt.title(\"Top 10 Feature Importances - Random Forest\")\n",
        "plt.tight_layout()\n",
        "plt.show()\n"
      ],
      "metadata": {
        "colab": {
          "base_uri": "https://localhost:8080/",
          "height": 607
        },
        "id": "L6_dZ0ky4OTJ",
        "outputId": "311cecd8-e918-4441-88b5-f5fa93500634"
      },
      "execution_count": null,
      "outputs": [
        {
          "output_type": "display_data",
          "data": {
            "text/plain": [
              "<Figure size 800x600 with 1 Axes>"
            ],
            "image/png": "[encoded data removed]"
          },
          "metadata": {}
        }
      ]
    },
    {
      "cell_type": "markdown",
      "source": [
        "**Graph-Based Analysis – Detect Fraud Networks**\n"
      ],
      "metadata": {
        "id": "GCzZm0U05FmT"
      }
    },
    {
      "cell_type": "code",
      "source": [
        "import networkx as nx\n",
        "import matplotlib.pyplot as plt\n",
        "\n",
        "# Sample edges: (Customer, Merchant)\n",
        "edges = [\n",
        "    ('C1', 'M1'),\n",
        "    ('C2', 'M1'),  # two customers to same merchant\n",
        "    ('C2', 'M2'),\n",
        "    ('C3', 'M2'),\n",
        "    ('C1', 'M3'),\n",
        "    ('C4', 'M1'),  # suspicious merchant with many links\n",
        "]\n",
        "\n",
        "G = nx.Graph()\n",
        "G.add_edges_from(edges)\n",
        "\n",
        "plt.figure(figsize=(8, 6))\n",
        "nx.draw_networkx(G, with_labels=True, node_color='skyblue', edge_color='gray')\n",
        "plt.title(\"Transaction Graph: Customers ↔ Merchants\")\n",
        "plt.axis('off')\n",
        "plt.show()\n"
      ],
      "metadata": {
        "colab": {
          "base_uri": "https://localhost:8080/",
          "height": 521
        },
        "id": "6DcxUPfO4U2E",
        "outputId": "15d31242-db99-42d6-f364-970082f971c0"
      },
      "execution_count": null,
      "outputs": [
        {
          "output_type": "display_data",
          "data": {
            "text/plain": [
              "<Figure size 800x600 with 1 Axes>"
            ],
            "image/png": "[encoded data removed]"
          },
          "metadata": {}
        }
      ]
    },
    {
      "cell_type": "markdown",
      "source": [
        "**Real Time Fraud Monitoring**"
      ],
      "metadata": {
        "id": "u-rQLawnAbfb"
      }
    },
    {
      "cell_type": "markdown",
      "source": [
        "**Testing Of email alert**"
      ],
      "metadata": {
        "id": "xx9R4nxdCBRz"
      }
    },
    {
      "cell_type": "code",
      "source": [
        "import smtplib\n",
        "\n",
        "sender = \"tirumalapanchal02@gmail.com\"\n",
        "password = \"vpdy elut wmcc xfli\"\n",
        "receiver = \"tirumalapanchal15@gmail.com\"\n",
        "subject = \"Test Email\"\n",
        "body = \"This is a test fraud alert from your Python script.\"\n",
        "message = f\"Subject: {subject}\\n\\n{body}\"\n",
        "\n",
        "try:\n",
        "    server = smtplib.SMTP(\"smtp.gmail.com\", 587)\n",
        "    server.starttls()\n",
        "    server.login(sender, password)\n",
        "    server.sendmail(sender, receiver, message)\n",
        "    server.quit()\n",
        "    print(\" Test email sent successfully.\")\n",
        "except Exception as e:\n",
        "    print(\" Failed to send email:\", e)\n"
      ],
      "metadata": {
        "colab": {
          "base_uri": "https://localhost:8080/"
        },
        "id": "w-PHdJ6O9aJB",
        "outputId": "adf2ac90-a177-4e4a-bc6e-06b78cdabf45"
      },
      "execution_count": null,
      "outputs": [
        {
          "output_type": "stream",
          "name": "stdout",
          "text": [
            " Test email sent successfully.\n"
          ]
        }
      ]
    },
    {
      "cell_type": "code",
      "source": [
        "def send_alert(transaction_id, amount, location):\n",
        "    sender = \"tirumalapanchal02@gmail.com\"\n",
        "    password = \"vpdy elut wmcc xfli\"\n",
        "    receiver = \"tirumalapanchal15@gmail.com\"\n",
        "    subject = \"Fraud Alert\"\n",
        "    body = f\"Suspicious Transaction Detected:\\n\\nTransaction ID: {transaction_id}\\nAmount: £{amount}\\nLocation: {location}\"\n",
        "    message = f\"Subject: {subject}\\n\\n{body}\"\n",
        "\n",
        "    try:\n",
        "        server = smtplib.SMTP(\"smtp.gmail.com\", 587)\n",
        "        server.starttls()\n",
        "        server.login(sender, password)\n",
        "        server.sendmail(sender, receiver, message)\n",
        "        server.quit()\n",
        "        print(f\"Alert sent for Transaction ID {transaction_id}\")\n",
        "    except Exception as e:\n",
        "        print(\"Failed to send alert:\", e)\n"
      ],
      "metadata": {
        "id": "0j5dVMb6-N_n"
      },
      "execution_count": null,
      "outputs": []
    },
    {
      "cell_type": "markdown",
      "source": [
        "**server starts here**"
      ],
      "metadata": {
        "id": "3LEYRKoJCK59"
      }
    },
    {
      "cell_type": "code",
      "source": [
        "server = smtplib.SMTP(\"smtp.gmail.com\", 587)\n",
        "server.starttls()\n"
      ],
      "metadata": {
        "colab": {
          "base_uri": "https://localhost:8080/"
        },
        "id": "ZE12Fsa7BOe9",
        "outputId": "2085e856-bd47-437b-cacb-d3db2ef5e80a"
      },
      "execution_count": null,
      "outputs": [
        {
          "output_type": "execute_result",
          "data": {
            "text/plain": [
              "(220, b'2.0.0 Ready to start TLS')"
            ]
          },
          "metadata": {},
          "execution_count": 36
        }
      ]
    },
    {
      "cell_type": "code",
      "source": [
        "from email.mime.text import MIMEText\n",
        "from email.mime.multipart import MIMEMultipart\n",
        "import smtplib\n",
        "\n",
        "def send_alert(transaction_id, amount, location):\n",
        "    sender = \"tirumalapanchal02@gmail.com\"\n",
        "    password = \"vpdy elut wmcc xfli\"\n",
        "    receiver = \"tirumalapanchal15@gmail.com\"\n",
        "\n",
        "    subject = \" Fraud Alert\"\n",
        "    body = f\"\"\"Suspicious Transaction Detected:\n",
        "\n",
        "Transaction ID: {transaction_id}\n",
        "Amount: £{amount}\n",
        "Location: {location}\n",
        "\"\"\"\n",
        "\n",
        "    # Set up MIME message with UTF-8\n",
        "    msg = MIMEMultipart()\n",
        "    msg['From'] = sender\n",
        "    msg['To'] = receiver\n",
        "    msg['Subject'] = subject\n",
        "\n",
        "    # Encode body as plain text with utf-8\n",
        "    msg.attach(MIMEText(body, 'plain', _charset='utf-8'))\n",
        "\n",
        "    try:\n",
        "        server = smtplib.SMTP(\"smtp.gmail.com\", 587)\n",
        "        server.starttls()\n",
        "        server.login(sender, password)\n",
        "        server.sendmail(sender, receiver, msg.as_string())\n",
        "        server.quit()\n",
        "        print(f\"Alert sent for Transaction ID {transaction_id}\")\n",
        "    except Exception as e:\n",
        "        print(\"Failed to send alert:\", e)\n"
      ],
      "metadata": {
        "id": "KH07QXpnB7lW"
      },
      "execution_count": null,
      "outputs": []
    },
    {
      "cell_type": "code",
      "source": [
        "send_alert(12345, 1050.25, \"Mumbai\")\n"
      ],
      "metadata": {
        "colab": {
          "base_uri": "https://localhost:8080/"
        },
        "id": "hrX3_7z0BSWn",
        "outputId": "c6c41dba-8e93-47ad-b521-9c3f8fc5c18c"
      },
      "execution_count": null,
      "outputs": [
        {
          "output_type": "stream",
          "name": "stdout",
          "text": [
            "Alert sent for Transaction ID 12345\n"
          ]
        }
      ]
    },
    {
      "cell_type": "markdown",
      "source": [
        "ML Model Result Summary (Simple)\n",
        "\n",
        "We built a machine learning model to detect fraudulent transactions.\n",
        "\n",
        "The model was trained using real-world credit card data.\n",
        "\n",
        "It achieved 89% accuracy, with high precision and recall.\n",
        "\n",
        "This means it can correctly detect most fraud cases while keeping false alerts low.\n",
        "\n",
        "The model works well with new data and can be used for real-time fraud monitoring.\n",
        "\n",
        "High-risk transactions can trigger alerts through email instantly.\n",
        "\n",
        "The model helps banks and companies reduce financial loss by catching fraud early.\n"
      ],
      "metadata": {
        "id": "mU-C2dW5Xt7z"
      }
    },
    {
      "cell_type": "markdown",
      "source": [
        "!pip install streamlit\n",
        "!pip install pyngrok\n"
      ],
      "metadata": {
        "id": "7o0ay7mIMy39"
      }
    },
    {
      "cell_type": "code",
      "source": [
        "!pip install streamlit pyngrok scikit-learn pandas\n"
      ],
      "metadata": {
        "colab": {
          "base_uri": "https://localhost:8080/"
        },
        "id": "7XXKbyC_FMs1",
        "outputId": "add0c262-62e5-4e6e-a08c-3626be39c680"
      },
      "execution_count": null,
      "outputs": [
        {
          "output_type": "stream",
          "name": "stdout",
          "text": [
            "Requirement already satisfied: streamlit in /usr/local/lib/python3.11/dist-packages (1.47.0)\n",
            "Requirement already satisfied: pyngrok in /usr/local/lib/python3.11/dist-packages (7.2.12)\n",
            "Requirement already satisfied: scikit-learn in /usr/local/lib/python3.11/dist-packages (1.6.1)\n",
            "Requirement already satisfied: pandas in /usr/local/lib/python3.11/dist-packages (2.2.2)\n",
            "Requirement already satisfied: altair<6,>=4.0 in /usr/local/lib/python3.11/dist-packages (from streamlit) (5.5.0)\n",
            "Requirement already satisfied: blinker<2,>=1.5.0 in /usr/local/lib/python3.11/dist-packages (from streamlit) (1.9.0)\n",
            "Requirement already satisfied: cachetools<7,>=4.0 in /usr/local/lib/python3.11/dist-packages (from streamlit) (5.5.2)\n",
            "Requirement already satisfied: click<9,>=7.0 in /usr/local/lib/python3.11/dist-packages (from streamlit) (8.2.1)\n",
            "Requirement already satisfied: numpy<3,>=1.23 in /usr/local/lib/python3.11/dist-packages (from streamlit) (2.0.2)\n",
            "Requirement already satisfied: packaging<26,>=20 in /usr/local/lib/python3.11/dist-packages (from streamlit) (25.0)\n",
            "Requirement already satisfied: pillow<12,>=7.1.0 in /usr/local/lib/python3.11/dist-packages (from streamlit) (11.2.1)\n",
            "Requirement already satisfied: protobuf<7,>=3.20 in /usr/local/lib/python3.11/dist-packages (from streamlit) (5.29.5)\n",
            "Requirement already satisfied: pyarrow>=7.0 in /usr/local/lib/python3.11/dist-packages (from streamlit) (18.1.0)\n",
            "Requirement already satisfied: requests<3,>=2.27 in /usr/local/lib/python3.11/dist-packages (from streamlit) (2.32.3)\n",
            "Requirement already satisfied: tenacity<10,>=8.1.0 in /usr/local/lib/python3.11/dist-packages (from streamlit) (8.5.0)\n",
            "Requirement already satisfied: toml<2,>=0.10.1 in /usr/local/lib/python3.11/dist-packages (from streamlit) (0.10.2)\n",
            "Requirement already satisfied: typing-extensions<5,>=4.4.0 in /usr/local/lib/python3.11/dist-packages (from streamlit) (4.14.1)\n",
            "Requirement already satisfied: watchdog<7,>=2.1.5 in /usr/local/lib/python3.11/dist-packages (from streamlit) (6.0.0)\n",
            "Requirement already satisfied: gitpython!=3.1.19,<4,>=3.0.7 in /usr/local/lib/python3.11/dist-packages (from streamlit) (3.1.44)\n",
            "Requirement already satisfied: pydeck<1,>=0.8.0b4 in /usr/local/lib/python3.11/dist-packages (from streamlit) (0.9.1)\n",
            "Requirement already satisfied: tornado!=6.5.0,<7,>=6.0.3 in /usr/local/lib/python3.11/dist-packages (from streamlit) (6.4.2)\n",
            "Requirement already satisfied: PyYAML>=5.1 in /usr/local/lib/python3.11/dist-packages (from pyngrok) (6.0.2)\n",
            "Requirement already satisfied: scipy>=1.6.0 in /usr/local/lib/python3.11/dist-packages (from scikit-learn) (1.15.3)\n",
            "Requirement already satisfied: joblib>=1.2.0 in /usr/local/lib/python3.11/dist-packages (from scikit-learn) (1.5.1)\n",
            "Requirement already satisfied: threadpoolctl>=3.1.0 in /usr/local/lib/python3.11/dist-packages (from scikit-learn) (3.6.0)\n",
            "Requirement already satisfied: python-dateutil>=2.8.2 in /usr/local/lib/python3.11/dist-packages (from pandas) (2.9.0.post0)\n",
            "Requirement already satisfied: pytz>=2020.1 in /usr/local/lib/python3.11/dist-packages (from pandas) (2025.2)\n",
            "Requirement already satisfied: tzdata>=2022.7 in /usr/local/lib/python3.11/dist-packages (from pandas) (2025.2)\n",
            "Requirement already satisfied: jinja2 in /usr/local/lib/python3.11/dist-packages (from altair<6,>=4.0->streamlit) (3.1.6)\n",
            "Requirement already satisfied: jsonschema>=3.0 in /usr/local/lib/python3.11/dist-packages (from altair<6,>=4.0->streamlit) (4.24.0)\n",
            "Requirement already satisfied: narwhals>=1.14.2 in /usr/local/lib/python3.11/dist-packages (from altair<6,>=4.0->streamlit) (1.47.0)\n",
            "Requirement already satisfied: gitdb<5,>=4.0.1 in /usr/local/lib/python3.11/dist-packages (from gitpython!=3.1.19,<4,>=3.0.7->streamlit) (4.0.12)\n",
            "Requirement already satisfied: six>=1.5 in /usr/local/lib/python3.11/dist-packages (from python-dateutil>=2.8.2->pandas) (1.17.0)\n",
            "Requirement already satisfied: charset-normalizer<4,>=2 in /usr/local/lib/python3.11/dist-packages (from requests<3,>=2.27->streamlit) (3.4.2)\n",
            "Requirement already satisfied: idna<4,>=2.5 in /usr/local/lib/python3.11/dist-packages (from requests<3,>=2.27->streamlit) (3.10)\n",
            "Requirement already satisfied: urllib3<3,>=1.21.1 in /usr/local/lib/python3.11/dist-packages (from requests<3,>=2.27->streamlit) (2.4.0)\n",
            "Requirement already satisfied: certifi>=2017.4.17 in /usr/local/lib/python3.11/dist-packages (from requests<3,>=2.27->streamlit) (2025.7.14)\n",
            "Requirement already satisfied: smmap<6,>=3.0.1 in /usr/local/lib/python3.11/dist-packages (from gitdb<5,>=4.0.1->gitpython!=3.1.19,<4,>=3.0.7->streamlit) (5.0.2)\n",
            "Requirement already satisfied: MarkupSafe>=2.0 in /usr/local/lib/python3.11/dist-packages (from jinja2->altair<6,>=4.0->streamlit) (3.0.2)\n",
            "Requirement already satisfied: attrs>=22.2.0 in /usr/local/lib/python3.11/dist-packages (from jsonschema>=3.0->altair<6,>=4.0->streamlit) (25.3.0)\n",
            "Requirement already satisfied: jsonschema-specifications>=2023.03.6 in /usr/local/lib/python3.11/dist-packages (from jsonschema>=3.0->altair<6,>=4.0->streamlit) (2025.4.1)\n",
            "Requirement already satisfied: referencing>=0.28.4 in /usr/local/lib/python3.11/dist-packages (from jsonschema>=3.0->altair<6,>=4.0->streamlit) (0.36.2)\n",
            "Requirement already satisfied: rpds-py>=0.7.1 in /usr/local/lib/python3.11/dist-packages (from jsonschema>=3.0->altair<6,>=4.0->streamlit) (0.26.0)\n"
          ]
        }
      ]
    },
    {
      "cell_type": "code",
      "source": [
        "!ngrok config add-authtoken 302mqikgyDVmBm96cz5QeebrJJ4_4AkBvb5sjUyMow8rytk1L\n"
      ],
      "metadata": {
        "colab": {
          "base_uri": "https://localhost:8080/"
        },
        "id": "JHn3vRCQFqZo",
        "outputId": "49c126d3-f1df-4344-893c-075463a80219"
      },
      "execution_count": null,
      "outputs": [
        {
          "output_type": "stream",
          "name": "stdout",
          "text": [
            "Authtoken saved to configuration file: /root/.config/ngrok/ngrok.yml\n"
          ]
        }
      ]
    },
    {
      "cell_type": "code",
      "source": [
        "import pandas as pd\n",
        "from sklearn.impute import SimpleImputer\n",
        "from sklearn.preprocessing import StandardScaler\n",
        "from sklearn.linear_model import LogisticRegression\n",
        "import pickle\n",
        "\n",
        "# Load real dataset\n",
        "df = pd.read_csv(\"CreditCardData.csv\", encoding=\"ISO-8859-1\")\n",
        "df['Amount'] = df['Amount'].replace('[£,]', '', regex=True).astype(float)\n",
        "df['Fraud'] = df['Fraud'].astype(int)\n",
        "df.drop(['Transaction ID', 'Date', 'Shipping Address'], axis=1, inplace=True)\n",
        "\n",
        "# Encode categorical\n",
        "df_encoded = pd.get_dummies(df, drop_first=True)\n",
        "X = df_encoded.drop(\"Fraud\", axis=1)\n",
        "y = df_encoded[\"Fraud\"]\n",
        "\n",
        "# Handle missing data\n",
        "imputer = SimpleImputer()\n",
        "X_imputed = imputer.fit_transform(X)\n",
        "\n",
        "# Scale\n",
        "scaler = StandardScaler()\n",
        "X_scaled = scaler.fit_transform(X_imputed)\n",
        "\n",
        "# Train model\n",
        "model = LogisticRegression(max_iter=1000)\n",
        "model.fit(X_scaled, y)\n",
        "\n",
        "# Save all\n",
        "with open(\"fraud_model.pkl\", \"wb\") as f:\n",
        "    pickle.dump(model, f)\n",
        "with open(\"scaler.pkl\", \"wb\") as f:\n",
        "    pickle.dump(scaler, f)\n",
        "with open(\"columns.pkl\", \"wb\") as f:\n",
        "    pickle.dump(X.columns.tolist(), f)\n",
        "with open(\"imputer.pkl\", \"wb\") as f:\n",
        "    pickle.dump(imputer, f)\n",
        "\n",
        "print(\"✅ Model, scaler, columns saved.\")\n"
      ],
      "metadata": {
        "colab": {
          "base_uri": "https://localhost:8080/"
        },
        "id": "02_UsVouL5kf",
        "outputId": "9e05d111-f919-4600-b3d4-082d99c364d0"
      },
      "execution_count": null,
      "outputs": [
        {
          "output_type": "stream",
          "name": "stdout",
          "text": [
            "✅ Model, scaler, columns saved.\n"
          ]
        }
      ]
    },
    {
      "cell_type": "code",
      "source": [
        "%%writefile app.py\n",
        "import streamlit as st\n",
        "import numpy as np\n",
        "import pickle\n",
        "import pandas as pd\n",
        "import smtplib\n",
        "import matplotlib.pyplot as plt\n",
        "import seaborn as sns\n",
        "import plotly.express as px\n",
        "from sklearn.metrics import confusion_matrix, RocCurveDisplay\n",
        "\n",
        "# Load model and tools\n",
        "with open(\"fraud_model.pkl\", \"rb\") as f:\n",
        "    model = pickle.load(f)\n",
        "with open(\"scaler.pkl\", \"rb\") as f:\n",
        "    scaler = pickle.load(f)\n",
        "with open(\"columns.pkl\", \"rb\") as f:\n",
        "    feature_columns = pickle.load(f)\n",
        "with open(\"imputer.pkl\", \"rb\") as f:\n",
        "    imputer = pickle.load(f)\n",
        "\n",
        "# Load dataset (for visuals)\n",
        "df = pd.read_csv(\"fraud_results.csv\")\n",
        "\n",
        "# Email alert function\n",
        "def send_alert(amount, card_type, country):\n",
        "    sender = \"tirumalapanchal02@gmail.com\"\n",
        "    password = \"vpdy elut wmcc xfli\"  # App password\n",
        "    receiver = \"tirumalapanchal15@gmail.com\"\n",
        "    subject = \"⚠️ Fraud Alert: Suspicious Transaction Detected\"\n",
        "    body = f\"Suspicious transaction:\\n\\nAmount: £{amount}\\nCard Type: {card_type}\\nCountry: {country}\"\n",
        "    message = f\"Subject: {subject}\\n\\n{body}\"\n",
        "\n",
        "    try:\n",
        "        server = smtplib.SMTP(\"smtp.gmail.com\", 587)\n",
        "        server.starttls()\n",
        "        server.login(sender, password)\n",
        "        server.sendmail(sender, receiver, message)\n",
        "        server.quit()\n",
        "        st.info(\"📧 Email alert sent.\")\n",
        "    except Exception as e:\n",
        "        st.warning(f\"❌ Email failed: {e}\")\n",
        "\n",
        "# Streamlit UI\n",
        "st.set_page_config(page_title=\"Fraud Detection\", layout=\"wide\")\n",
        "st.title(\"💳 Real-Time Credit Card Fraud Detection\")\n",
        "\n",
        "# Sidebar inputs\n",
        "st.sidebar.header(\"📥 Enter Transaction Details\")\n",
        "amount = st.sidebar.number_input(\"Transaction Amount (£)\", min_value=0.0, value=100.0)\n",
        "card_type = st.sidebar.selectbox(\"Card Type\", [\"Visa\", \"MasterCard\", \"Other\"])\n",
        "country = st.sidebar.selectbox(\"Country\", [\"UK\", \"USA\", \"India\", \"Other\"])\n",
        "\n",
        "# Encode input\n",
        "card_type_cols = {\n",
        "    \"Card Type_MasterCard\": 1 if card_type == \"MasterCard\" else 0,\n",
        "    \"Card Type_Other\": 1 if card_type == \"Other\" else 0\n",
        "}\n",
        "country_cols = {\n",
        "    \"Country of Transaction_India\": 1 if country == \"India\" else 0,\n",
        "    \"Country of Transaction_UK\": 1 if country == \"UK\" else 0,\n",
        "    \"Country of Transaction_USA\": 1 if country == \"USA\" else 0,\n",
        "    \"Country of Transaction_Other\": 1 if country == \"Other\" else 0,\n",
        "}\n",
        "\n",
        "data = {\n",
        "    \"Amount\": amount,\n",
        "    **card_type_cols,\n",
        "    **country_cols\n",
        "}\n",
        "input_df = pd.DataFrame([data])\n",
        "input_df = input_df.reindex(columns=feature_columns, fill_value=0)\n",
        "X_imputed = imputer.transform(input_df)\n",
        "X_scaled = scaler.transform(X_imputed)\n",
        "prediction = model.predict(X_scaled)[0]\n",
        "\n",
        "# Predict and alert\n",
        "if st.sidebar.button(\"Check for Fraud\"):\n",
        "    if prediction == 1:\n",
        "        st.error(\"⚠️ This transaction is **fraudulent**!\")\n",
        "        send_alert(amount, card_type, country)\n",
        "    else:\n",
        "        st.success(\"✅ This transaction appears **legitimate**.\")\n",
        "\n",
        "# ---------------- VISUALS ---------------- #\n",
        "st.markdown(\"## 📊 Fraud Detection Insights\")\n",
        "\n",
        "# Fraud count bar chart\n",
        "st.subheader(\"Fraud vs Legitimate Transactions\")\n",
        "fraud_counts = df['Fraud'].value_counts().rename(index={0: \"Legit\", 1: \"Fraud\"})\n",
        "st.bar_chart(fraud_counts)\n",
        "\n",
        "# Recent transactions\n",
        "if st.checkbox(\"🧾 Show Recent Transactions\"):\n",
        "    st.dataframe(df.tail(10))\n",
        "\n",
        "# Confusion matrix\n",
        "if st.checkbox(\"📉 Show Confusion Matrix\"):\n",
        "    X_vis = pd.get_dummies(df.drop(\"Fraud\", axis=1), drop_first=True)\n",
        "    X_vis = X_vis.reindex(columns=feature_columns, fill_value=0)\n",
        "    X_vis_scaled = scaler.transform(imputer.transform(X_vis))\n",
        "    y_pred = model.predict(X_vis_scaled)\n",
        "    cm = confusion_matrix(df[\"Fraud\"], y_pred)\n",
        "    fig, ax = plt.subplots()\n",
        "    sns.heatmap(cm, annot=True, fmt='d', cmap='Blues', ax=ax)\n",
        "    ax.set_xlabel(\"Predicted\")\n",
        "    ax.set_ylabel(\"Actual\")\n",
        "    st.pyplot(fig)\n",
        "\n",
        "# ROC curve\n",
        "if st.checkbox(\"📈 Show ROC Curve\"):\n",
        "    fig, ax = plt.subplots()\n",
        "    RocCurveDisplay.from_estimator(model, X_vis_scaled, df[\"Fraud\"], ax=ax)\n",
        "    st.pyplot(fig)\n",
        "\n",
        "# Feature importance (for logistic regression)\n",
        "if st.checkbox(\"📌 Show Feature Weights\"):\n",
        "    coefs = model.coef_[0]\n",
        "    top_features = pd.Series(coefs, index=feature_columns).sort_values(key=abs, ascending=False).head(10)\n",
        "    st.bar_chart(top_features)\n",
        "\n",
        "# Transactions by Country\n",
        "if st.checkbox(\"📊 Show Transactions by Country\"):\n",
        "    country_counts = df[\"Country of Transaction\"].value_counts()\n",
        "    st.bar_chart(country_counts)\n",
        "\n",
        "# Card Type Distribution (Pie Chart)\n",
        "if st.checkbox(\"🥧 Show Card Type Distribution\"):\n",
        "    fig = px.pie(df, names=\"Card Type\", title=\"Card Type Usage\")\n",
        "    st.plotly_chart(fig)\n"
      ],
      "metadata": {
        "colab": {
          "base_uri": "https://localhost:8080/"
        },
        "id": "ABpu9Po6Rrhh",
        "outputId": "4d49ee06-e696-4c36-9ba2-9ce363b08e0c"
      },
      "execution_count": null,
      "outputs": [
        {
          "output_type": "stream",
          "name": "stdout",
          "text": [
            "Overwriting app.py\n"
          ]
        }
      ]
    },
    {
      "cell_type": "code",
      "source": [
        "%%writefile app.py\n",
        "import streamlit as st\n",
        "import numpy as np\n",
        "import pickle\n",
        "import pandas as pd\n",
        "import smtplib\n",
        "import matplotlib.pyplot as plt\n",
        "import seaborn as sns\n",
        "import plotly.express as px\n",
        "from sklearn.metrics import confusion_matrix, RocCurveDisplay\n",
        "\n",
        "# Load model and tools\n",
        "with open(\"fraud_model.pkl\", \"rb\") as f:\n",
        "    model = pickle.load(f)\n",
        "with open(\"scaler.pkl\", \"rb\") as f:\n",
        "    scaler = pickle.load(f)\n",
        "with open(\"columns.pkl\", \"rb\") as f:\n",
        "    feature_columns = pickle.load(f)\n",
        "with open(\"imputer.pkl\", \"rb\") as f:\n",
        "    imputer = pickle.load(f)\n",
        "\n",
        "# Load dataset (for visuals)\n",
        "df = pd.read_csv(\"fraud_results.csv\")\n",
        "\n",
        "# Email alert function\n",
        "def send_alert(amount, card_type, country):\n",
        "    sender = \"tirumalapanchal02@gmail.com\"\n",
        "    password = \"vpdy elut wmcc xfli\"  # App password\n",
        "    receiver = \"tirumalapanchal15@gmail.com\"\n",
        "    subject = \"⚠️ Fraud Alert: Suspicious Transaction Detected\"\n",
        "    body = f\"Suspicious transaction:\\n\\nAmount: £{amount}\\nCard Type: {card_type}\\nCountry: {country}\"\n",
        "    message = f\"Subject: {subject}\\n\\n{body}\"\n",
        "\n",
        "    try:\n",
        "        server = smtplib.SMTP(\"smtp.gmail.com\", 587)\n",
        "        server.starttls()\n",
        "        server.login(sender, password)\n",
        "        server.sendmail(sender, receiver, message)\n",
        "        server.quit()\n",
        "        st.info(\"📧 Email alert sent.\")\n",
        "    except Exception as e:\n",
        "        st.warning(f\"❌ Email failed: {e}\")\n",
        "\n",
        "# Streamlit UI\n",
        "st.set_page_config(page_title=\"Fraud Detection\", layout=\"wide\")\n",
        "st.title(\"💳 Real-Time Credit Card Fraud Detection\")\n",
        "\n",
        "# Sidebar inputs\n",
        "st.sidebar.header(\"📥 Enter Transaction Details\")\n",
        "amount = st.sidebar.number_input(\"Transaction Amount (£)\", min_value=0.0, value=100.0)\n",
        "card_type = st.sidebar.selectbox(\"Card Type\", [\"Visa\", \"MasterCard\", \"Other\"])\n",
        "country = st.sidebar.selectbox(\"Country\", [\"UK\", \"USA\", \"India\", \"Other\"])\n",
        "\n",
        "# Encode input\n",
        "card_type_cols = {\n",
        "    \"Card Type_MasterCard\": 1 if card_type == \"MasterCard\" else 0,\n",
        "    \"Card Type_Other\": 1 if card_type == \"Other\" else 0\n",
        "}\n",
        "country_cols = {\n",
        "    \"Country of Transaction_India\": 1 if country == \"India\" else 0,\n",
        "    \"Country of Transaction_UK\": 1 if country == \"UK\" else 0,\n",
        "    \"Country of Transaction_USA\": 1 if country == \"USA\" else 0,\n",
        "    \"Country of Transaction_Other\": 1 if country == \"Other\" else 0,\n",
        "}\n",
        "\n",
        "data = {\n",
        "    \"Amount\": amount,\n",
        "    **card_type_cols,\n",
        "    **country_cols\n",
        "}\n",
        "input_df = pd.DataFrame([data])\n",
        "input_df = input_df.reindex(columns=feature_columns, fill_value=0)\n",
        "X_imputed = imputer.transform(input_df)\n",
        "X_scaled = scaler.transform(X_imputed)\n",
        "prediction = model.predict(X_scaled)[0]\n",
        "\n",
        "# Predict and alert\n",
        "if st.sidebar.button(\"Check for Fraud\"):\n",
        "    if prediction == 1:\n",
        "        st.error(\"⚠️ This transaction is **fraudulent**!\")\n",
        "        send_alert(amount, card_type, country)\n",
        "    else:\n",
        "        st.success(\"✅ This transaction appears **legitimate**.\")\n",
        "\n",
        "# ---------------- VISUALS ---------------- #\n",
        "st.markdown(\"## 📊 Fraud Detection Insights\")\n",
        "\n",
        "# Fraud count bar chart\n",
        "st.subheader(\"Fraud vs Legitimate Transactions\")\n",
        "fraud_counts = df['Actual'].value_counts().rename(index={0: \"Legit\", 1: \"Fraud\"})\n",
        "st.bar_chart(fraud_counts)\n",
        "\n",
        "# Recent transactions\n",
        "if st.checkbox(\"🧾 Show Recent Transactions\", key=\"recent_txn\"):\n",
        "    st.dataframe(df.tail(10))\n",
        "\n",
        "\n",
        "# Feature importance\n",
        "if st.checkbox(\"📌 Show Feature Weights\", key=\"feat_importance\"):\n",
        "    coefs = model.coef_[0]\n",
        "    top_features = pd.Series(coefs, index=feature_columns).sort_values(key=abs, ascending=False).head(10)\n",
        "    st.bar_chart(top_features)\n",
        "\n"
      ],
      "metadata": {
        "colab": {
          "base_uri": "https://localhost:8080/"
        },
        "id": "J4520H38dR9U",
        "outputId": "cf5b7668-ee86-43e8-c7f9-1fa84d4aa7f9"
      },
      "execution_count": null,
      "outputs": [
        {
          "output_type": "stream",
          "name": "stdout",
          "text": [
            "Overwriting app.py\n"
          ]
        }
      ]
    },
    {
      "cell_type": "markdown",
      "source": [],
      "metadata": {
        "id": "3VF3kfVkWVoL"
      }
    },
    {
      "cell_type": "code",
      "source": [
        "!pip install streamlit pyngrok plotly --quiet\n",
        "!streamlit run app.py &>/content/logs.txt &\n",
        "from pyngrok import ngrok\n",
        "public_url = ngrok.connect(8501)\n",
        "print(\"🌐 App is live at:\", public_url)\n"
      ],
      "metadata": {
        "colab": {
          "base_uri": "https://localhost:8080/"
        },
        "id": "6OEynbvUYTOG",
        "outputId": "f5416b6e-761f-4da3-b91e-0e371dc48c19"
      },
      "execution_count": null,
      "outputs": [
        {
          "output_type": "stream",
          "name": "stdout",
          "text": [
            "🌐 App is live at: NgrokTunnel: \"https://4d63028cea3c.ngrok-free.app\" -> \"http://localhost:8501\"\n"
          ]
        }
      ]
    },
    {
      "cell_type": "code",
      "source": [],
      "metadata": {
        "id": "YjHLHCZibVhT"
      },
      "execution_count": null,
      "outputs": []
    }
  ]
}